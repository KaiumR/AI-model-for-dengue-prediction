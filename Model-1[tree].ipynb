{
 "cells": [
  {
   "cell_type": "code",
   "execution_count": 1,
   "id": "3e44ba59",
   "metadata": {},
   "outputs": [],
   "source": [
    "import pandas as pd\n",
    "import matplotlib.pyplot as plt\n",
    "import numpy as nm\n",
    "import seaborn as sns\n",
    "from sklearn import tree"
   ]
  },
  {
   "cell_type": "code",
   "execution_count": 2,
   "id": "3e94cd2c",
   "metadata": {},
   "outputs": [
    {
     "data": {
      "text/html": [
       "<div>\n",
       "<style scoped>\n",
       "    .dataframe tbody tr th:only-of-type {\n",
       "        vertical-align: middle;\n",
       "    }\n",
       "\n",
       "    .dataframe tbody tr th {\n",
       "        vertical-align: top;\n",
       "    }\n",
       "\n",
       "    .dataframe thead th {\n",
       "        text-align: right;\n",
       "    }\n",
       "</style>\n",
       "<table border=\"1\" class=\"dataframe\">\n",
       "  <thead>\n",
       "    <tr style=\"text-align: right;\">\n",
       "      <th></th>\n",
       "      <th>nu_idade</th>\n",
       "      <th>tp_sexo</th>\n",
       "      <th>tp_gestante</th>\n",
       "      <th>tp_raca_cor</th>\n",
       "      <th>tp_zona_residencia</th>\n",
       "      <th>febre</th>\n",
       "      <th>mialgia</th>\n",
       "      <th>cefaleia</th>\n",
       "      <th>exantema</th>\n",
       "      <th>vomito</th>\n",
       "      <th>...</th>\n",
       "      <th>laco</th>\n",
       "      <th>dor_retro</th>\n",
       "      <th>diabetes</th>\n",
       "      <th>hematolog</th>\n",
       "      <th>hepatopat</th>\n",
       "      <th>renal</th>\n",
       "      <th>hipertensao</th>\n",
       "      <th>acido_pept</th>\n",
       "      <th>auto_imune</th>\n",
       "      <th>tp_classificacao_final</th>\n",
       "    </tr>\n",
       "  </thead>\n",
       "  <tbody>\n",
       "    <tr>\n",
       "      <th>0</th>\n",
       "      <td>3006.0</td>\n",
       "      <td>M</td>\n",
       "      <td>6.0</td>\n",
       "      <td>9.0</td>\n",
       "      <td>1.0</td>\n",
       "      <td>1.0</td>\n",
       "      <td>2.0</td>\n",
       "      <td>2.0</td>\n",
       "      <td>2.0</td>\n",
       "      <td>1.0</td>\n",
       "      <td>...</td>\n",
       "      <td>2.0</td>\n",
       "      <td>1.0</td>\n",
       "      <td>2.0</td>\n",
       "      <td>2.0</td>\n",
       "      <td>2.0</td>\n",
       "      <td>2.0</td>\n",
       "      <td>2.0</td>\n",
       "      <td>2.0</td>\n",
       "      <td>2.0</td>\n",
       "      <td>8.0</td>\n",
       "    </tr>\n",
       "    <tr>\n",
       "      <th>1</th>\n",
       "      <td>4027.0</td>\n",
       "      <td>M</td>\n",
       "      <td>6.0</td>\n",
       "      <td>9.0</td>\n",
       "      <td>1.0</td>\n",
       "      <td>NaN</td>\n",
       "      <td>NaN</td>\n",
       "      <td>NaN</td>\n",
       "      <td>NaN</td>\n",
       "      <td>NaN</td>\n",
       "      <td>...</td>\n",
       "      <td>NaN</td>\n",
       "      <td>NaN</td>\n",
       "      <td>NaN</td>\n",
       "      <td>NaN</td>\n",
       "      <td>NaN</td>\n",
       "      <td>NaN</td>\n",
       "      <td>NaN</td>\n",
       "      <td>NaN</td>\n",
       "      <td>NaN</td>\n",
       "      <td>5.0</td>\n",
       "    </tr>\n",
       "    <tr>\n",
       "      <th>2</th>\n",
       "      <td>4050.0</td>\n",
       "      <td>F</td>\n",
       "      <td>6.0</td>\n",
       "      <td>9.0</td>\n",
       "      <td>1.0</td>\n",
       "      <td>NaN</td>\n",
       "      <td>NaN</td>\n",
       "      <td>NaN</td>\n",
       "      <td>NaN</td>\n",
       "      <td>NaN</td>\n",
       "      <td>...</td>\n",
       "      <td>NaN</td>\n",
       "      <td>NaN</td>\n",
       "      <td>NaN</td>\n",
       "      <td>NaN</td>\n",
       "      <td>NaN</td>\n",
       "      <td>NaN</td>\n",
       "      <td>NaN</td>\n",
       "      <td>NaN</td>\n",
       "      <td>NaN</td>\n",
       "      <td>5.0</td>\n",
       "    </tr>\n",
       "    <tr>\n",
       "      <th>3</th>\n",
       "      <td>4004.0</td>\n",
       "      <td>M</td>\n",
       "      <td>6.0</td>\n",
       "      <td>9.0</td>\n",
       "      <td>1.0</td>\n",
       "      <td>NaN</td>\n",
       "      <td>NaN</td>\n",
       "      <td>NaN</td>\n",
       "      <td>NaN</td>\n",
       "      <td>NaN</td>\n",
       "      <td>...</td>\n",
       "      <td>NaN</td>\n",
       "      <td>NaN</td>\n",
       "      <td>NaN</td>\n",
       "      <td>NaN</td>\n",
       "      <td>NaN</td>\n",
       "      <td>NaN</td>\n",
       "      <td>NaN</td>\n",
       "      <td>NaN</td>\n",
       "      <td>NaN</td>\n",
       "      <td>10.0</td>\n",
       "    </tr>\n",
       "    <tr>\n",
       "      <th>4</th>\n",
       "      <td>4025.0</td>\n",
       "      <td>F</td>\n",
       "      <td>5.0</td>\n",
       "      <td>9.0</td>\n",
       "      <td>1.0</td>\n",
       "      <td>NaN</td>\n",
       "      <td>NaN</td>\n",
       "      <td>NaN</td>\n",
       "      <td>NaN</td>\n",
       "      <td>NaN</td>\n",
       "      <td>...</td>\n",
       "      <td>NaN</td>\n",
       "      <td>NaN</td>\n",
       "      <td>NaN</td>\n",
       "      <td>NaN</td>\n",
       "      <td>NaN</td>\n",
       "      <td>NaN</td>\n",
       "      <td>NaN</td>\n",
       "      <td>NaN</td>\n",
       "      <td>NaN</td>\n",
       "      <td>10.0</td>\n",
       "    </tr>\n",
       "  </tbody>\n",
       "</table>\n",
       "<p>5 rows × 26 columns</p>\n",
       "</div>"
      ],
      "text/plain": [
       "   nu_idade tp_sexo  tp_gestante  tp_raca_cor  tp_zona_residencia  febre  \\\n",
       "0    3006.0       M          6.0          9.0                 1.0    1.0   \n",
       "1    4027.0       M          6.0          9.0                 1.0    NaN   \n",
       "2    4050.0       F          6.0          9.0                 1.0    NaN   \n",
       "3    4004.0       M          6.0          9.0                 1.0    NaN   \n",
       "4    4025.0       F          5.0          9.0                 1.0    NaN   \n",
       "\n",
       "   mialgia  cefaleia  exantema  vomito  ...  laco  dor_retro  diabetes  \\\n",
       "0      2.0       2.0       2.0     1.0  ...   2.0        1.0       2.0   \n",
       "1      NaN       NaN       NaN     NaN  ...   NaN        NaN       NaN   \n",
       "2      NaN       NaN       NaN     NaN  ...   NaN        NaN       NaN   \n",
       "3      NaN       NaN       NaN     NaN  ...   NaN        NaN       NaN   \n",
       "4      NaN       NaN       NaN     NaN  ...   NaN        NaN       NaN   \n",
       "\n",
       "   hematolog  hepatopat  renal  hipertensao  acido_pept  auto_imune  \\\n",
       "0        2.0        2.0    2.0          2.0         2.0         2.0   \n",
       "1        NaN        NaN    NaN          NaN         NaN         NaN   \n",
       "2        NaN        NaN    NaN          NaN         NaN         NaN   \n",
       "3        NaN        NaN    NaN          NaN         NaN         NaN   \n",
       "4        NaN        NaN    NaN          NaN         NaN         NaN   \n",
       "\n",
       "   tp_classificacao_final  \n",
       "0                     8.0  \n",
       "1                     5.0  \n",
       "2                     5.0  \n",
       "3                    10.0  \n",
       "4                    10.0  \n",
       "\n",
       "[5 rows x 26 columns]"
      ]
     },
     "execution_count": 2,
     "metadata": {},
     "output_type": "execute_result"
    }
   ],
   "source": [
    "df=pd.read_csv('book1.csv')\n",
    "df.head()"
   ]
  },
  {
   "cell_type": "code",
   "execution_count": 3,
   "id": "2582f738",
   "metadata": {},
   "outputs": [
    {
     "data": {
      "text/plain": [
       "(83073, 26)"
      ]
     },
     "execution_count": 3,
     "metadata": {},
     "output_type": "execute_result"
    }
   ],
   "source": [
    "df.shape"
   ]
  },
  {
   "cell_type": "code",
   "execution_count": null,
   "id": "a4aae9aa",
   "metadata": {
    "scrolled": true
   },
   "outputs": [],
   "source": []
  },
  {
   "cell_type": "code",
   "execution_count": 4,
   "id": "86575405",
   "metadata": {},
   "outputs": [
    {
     "data": {
      "text/plain": [
       "950617"
      ]
     },
     "execution_count": 4,
     "metadata": {},
     "output_type": "execute_result"
    }
   ],
   "source": [
    "df.isnull().sum().sum()"
   ]
  },
  {
   "cell_type": "code",
   "execution_count": 5,
   "id": "7d6ed57f",
   "metadata": {},
   "outputs": [],
   "source": [
    "#df.dropna(subset=['tp_classificacao_final','tp_sexo'])\n",
    "#df=df.fillna(value=0)"
   ]
  },
  {
   "cell_type": "code",
   "execution_count": 6,
   "id": "315308a0",
   "metadata": {},
   "outputs": [
    {
     "data": {
      "text/plain": [
       "nu_idade                   2375\n",
       "tp_sexo                    2382\n",
       "tp_gestante                2384\n",
       "tp_raca_cor               12685\n",
       "tp_zona_residencia        12045\n",
       "febre                     45804\n",
       "mialgia                   45803\n",
       "cefaleia                  45803\n",
       "exantema                  45803\n",
       "vomito                    45803\n",
       "nausea                    45803\n",
       "dor_costas                45803\n",
       "conjutivite               45803\n",
       "artrite                   45803\n",
       "artralgia                 45803\n",
       "petequia_n                45803\n",
       "laco                      45803\n",
       "dor_retro                 45803\n",
       "diabetes                  45803\n",
       "hematolog                 45803\n",
       "hepatopat                 45803\n",
       "renal                     45803\n",
       "hipertensao               45803\n",
       "acido_pept                45803\n",
       "auto_imune                45803\n",
       "tp_classificacao_final     2685\n",
       "dtype: int64"
      ]
     },
     "execution_count": 6,
     "metadata": {},
     "output_type": "execute_result"
    }
   ],
   "source": [
    "#df=df.fillna(value=df['tp_gestante'].mean())\n",
    "#df.isnull().sum().sum()\n",
    "df.isnull().sum()"
   ]
  },
  {
   "cell_type": "code",
   "execution_count": 7,
   "id": "218e4017",
   "metadata": {},
   "outputs": [],
   "source": [
    "df=df.dropna(subset=['tp_classificacao_final'])"
   ]
  },
  {
   "cell_type": "code",
   "execution_count": 8,
   "id": "ae85fffd",
   "metadata": {},
   "outputs": [],
   "source": [
    "df=df.drop(['nu_idade','tp_sexo','tp_raca_cor'],axis=1)"
   ]
  },
  {
   "cell_type": "code",
   "execution_count": 9,
   "id": "e90c8625",
   "metadata": {},
   "outputs": [],
   "source": [
    "df=df.drop(df[df['tp_classificacao_final'] == 1].index)\n",
    "df=df.drop(df[df['tp_classificacao_final'] == 2].index)\n",
    "df=df.drop(df[df['tp_classificacao_final'] == 11].index)\n",
    "df=df.drop(df[df['tp_classificacao_final'] == 12].index)"
   ]
  },
  {
   "cell_type": "code",
   "execution_count": 10,
   "id": "77f37f68",
   "metadata": {},
   "outputs": [
    {
     "data": {
      "text/plain": [
       "tp_gestante                   9\n",
       "tp_zona_residencia         9433\n",
       "febre                     38141\n",
       "mialgia                   38141\n",
       "cefaleia                  38141\n",
       "exantema                  38141\n",
       "vomito                    38141\n",
       "nausea                    38141\n",
       "dor_costas                38141\n",
       "conjutivite               38141\n",
       "artrite                   38141\n",
       "artralgia                 38141\n",
       "petequia_n                38141\n",
       "laco                      38141\n",
       "dor_retro                 38141\n",
       "diabetes                  38141\n",
       "hematolog                 38141\n",
       "hepatopat                 38141\n",
       "renal                     38141\n",
       "hipertensao               38141\n",
       "acido_pept                38141\n",
       "auto_imune                38141\n",
       "tp_classificacao_final        0\n",
       "dtype: int64"
      ]
     },
     "execution_count": 10,
     "metadata": {},
     "output_type": "execute_result"
    }
   ],
   "source": [
    "df.isnull().sum()"
   ]
  },
  {
   "cell_type": "code",
   "execution_count": 11,
   "id": "c9b604d8",
   "metadata": {},
   "outputs": [],
   "source": [
    "df2=df.fillna(value=df['febre'].mean())"
   ]
  },
  {
   "cell_type": "code",
   "execution_count": 12,
   "id": "96bf71fa",
   "metadata": {},
   "outputs": [
    {
     "data": {
      "text/html": [
       "<div>\n",
       "<style scoped>\n",
       "    .dataframe tbody tr th:only-of-type {\n",
       "        vertical-align: middle;\n",
       "    }\n",
       "\n",
       "    .dataframe tbody tr th {\n",
       "        vertical-align: top;\n",
       "    }\n",
       "\n",
       "    .dataframe thead th {\n",
       "        text-align: right;\n",
       "    }\n",
       "</style>\n",
       "<table border=\"1\" class=\"dataframe\">\n",
       "  <thead>\n",
       "    <tr style=\"text-align: right;\">\n",
       "      <th></th>\n",
       "      <th>tp_gestante</th>\n",
       "      <th>tp_zona_residencia</th>\n",
       "      <th>febre</th>\n",
       "      <th>mialgia</th>\n",
       "      <th>cefaleia</th>\n",
       "      <th>exantema</th>\n",
       "      <th>vomito</th>\n",
       "      <th>nausea</th>\n",
       "      <th>dor_costas</th>\n",
       "      <th>conjutivite</th>\n",
       "      <th>...</th>\n",
       "      <th>laco</th>\n",
       "      <th>dor_retro</th>\n",
       "      <th>diabetes</th>\n",
       "      <th>hematolog</th>\n",
       "      <th>hepatopat</th>\n",
       "      <th>renal</th>\n",
       "      <th>hipertensao</th>\n",
       "      <th>acido_pept</th>\n",
       "      <th>auto_imune</th>\n",
       "      <th>tp_classificacao_final</th>\n",
       "    </tr>\n",
       "  </thead>\n",
       "  <tbody>\n",
       "    <tr>\n",
       "      <th>0</th>\n",
       "      <td>6.0</td>\n",
       "      <td>1.0</td>\n",
       "      <td>1.000000</td>\n",
       "      <td>2.000000</td>\n",
       "      <td>2.000000</td>\n",
       "      <td>2.000000</td>\n",
       "      <td>1.000000</td>\n",
       "      <td>2.000000</td>\n",
       "      <td>2.000000</td>\n",
       "      <td>2.000000</td>\n",
       "      <td>...</td>\n",
       "      <td>2.000000</td>\n",
       "      <td>1.000000</td>\n",
       "      <td>2.000000</td>\n",
       "      <td>2.000000</td>\n",
       "      <td>2.000000</td>\n",
       "      <td>2.000000</td>\n",
       "      <td>2.000000</td>\n",
       "      <td>2.000000</td>\n",
       "      <td>2.000000</td>\n",
       "      <td>8.0</td>\n",
       "    </tr>\n",
       "    <tr>\n",
       "      <th>1</th>\n",
       "      <td>6.0</td>\n",
       "      <td>1.0</td>\n",
       "      <td>1.197188</td>\n",
       "      <td>1.197188</td>\n",
       "      <td>1.197188</td>\n",
       "      <td>1.197188</td>\n",
       "      <td>1.197188</td>\n",
       "      <td>1.197188</td>\n",
       "      <td>1.197188</td>\n",
       "      <td>1.197188</td>\n",
       "      <td>...</td>\n",
       "      <td>1.197188</td>\n",
       "      <td>1.197188</td>\n",
       "      <td>1.197188</td>\n",
       "      <td>1.197188</td>\n",
       "      <td>1.197188</td>\n",
       "      <td>1.197188</td>\n",
       "      <td>1.197188</td>\n",
       "      <td>1.197188</td>\n",
       "      <td>1.197188</td>\n",
       "      <td>5.0</td>\n",
       "    </tr>\n",
       "    <tr>\n",
       "      <th>2</th>\n",
       "      <td>6.0</td>\n",
       "      <td>1.0</td>\n",
       "      <td>1.197188</td>\n",
       "      <td>1.197188</td>\n",
       "      <td>1.197188</td>\n",
       "      <td>1.197188</td>\n",
       "      <td>1.197188</td>\n",
       "      <td>1.197188</td>\n",
       "      <td>1.197188</td>\n",
       "      <td>1.197188</td>\n",
       "      <td>...</td>\n",
       "      <td>1.197188</td>\n",
       "      <td>1.197188</td>\n",
       "      <td>1.197188</td>\n",
       "      <td>1.197188</td>\n",
       "      <td>1.197188</td>\n",
       "      <td>1.197188</td>\n",
       "      <td>1.197188</td>\n",
       "      <td>1.197188</td>\n",
       "      <td>1.197188</td>\n",
       "      <td>5.0</td>\n",
       "    </tr>\n",
       "    <tr>\n",
       "      <th>3</th>\n",
       "      <td>6.0</td>\n",
       "      <td>1.0</td>\n",
       "      <td>1.197188</td>\n",
       "      <td>1.197188</td>\n",
       "      <td>1.197188</td>\n",
       "      <td>1.197188</td>\n",
       "      <td>1.197188</td>\n",
       "      <td>1.197188</td>\n",
       "      <td>1.197188</td>\n",
       "      <td>1.197188</td>\n",
       "      <td>...</td>\n",
       "      <td>1.197188</td>\n",
       "      <td>1.197188</td>\n",
       "      <td>1.197188</td>\n",
       "      <td>1.197188</td>\n",
       "      <td>1.197188</td>\n",
       "      <td>1.197188</td>\n",
       "      <td>1.197188</td>\n",
       "      <td>1.197188</td>\n",
       "      <td>1.197188</td>\n",
       "      <td>10.0</td>\n",
       "    </tr>\n",
       "    <tr>\n",
       "      <th>4</th>\n",
       "      <td>5.0</td>\n",
       "      <td>1.0</td>\n",
       "      <td>1.197188</td>\n",
       "      <td>1.197188</td>\n",
       "      <td>1.197188</td>\n",
       "      <td>1.197188</td>\n",
       "      <td>1.197188</td>\n",
       "      <td>1.197188</td>\n",
       "      <td>1.197188</td>\n",
       "      <td>1.197188</td>\n",
       "      <td>...</td>\n",
       "      <td>1.197188</td>\n",
       "      <td>1.197188</td>\n",
       "      <td>1.197188</td>\n",
       "      <td>1.197188</td>\n",
       "      <td>1.197188</td>\n",
       "      <td>1.197188</td>\n",
       "      <td>1.197188</td>\n",
       "      <td>1.197188</td>\n",
       "      <td>1.197188</td>\n",
       "      <td>10.0</td>\n",
       "    </tr>\n",
       "  </tbody>\n",
       "</table>\n",
       "<p>5 rows × 23 columns</p>\n",
       "</div>"
      ],
      "text/plain": [
       "   tp_gestante  tp_zona_residencia     febre   mialgia  cefaleia  exantema  \\\n",
       "0          6.0                 1.0  1.000000  2.000000  2.000000  2.000000   \n",
       "1          6.0                 1.0  1.197188  1.197188  1.197188  1.197188   \n",
       "2          6.0                 1.0  1.197188  1.197188  1.197188  1.197188   \n",
       "3          6.0                 1.0  1.197188  1.197188  1.197188  1.197188   \n",
       "4          5.0                 1.0  1.197188  1.197188  1.197188  1.197188   \n",
       "\n",
       "     vomito    nausea  dor_costas  conjutivite  ...      laco  dor_retro  \\\n",
       "0  1.000000  2.000000    2.000000     2.000000  ...  2.000000   1.000000   \n",
       "1  1.197188  1.197188    1.197188     1.197188  ...  1.197188   1.197188   \n",
       "2  1.197188  1.197188    1.197188     1.197188  ...  1.197188   1.197188   \n",
       "3  1.197188  1.197188    1.197188     1.197188  ...  1.197188   1.197188   \n",
       "4  1.197188  1.197188    1.197188     1.197188  ...  1.197188   1.197188   \n",
       "\n",
       "   diabetes  hematolog  hepatopat     renal  hipertensao  acido_pept  \\\n",
       "0  2.000000   2.000000   2.000000  2.000000     2.000000    2.000000   \n",
       "1  1.197188   1.197188   1.197188  1.197188     1.197188    1.197188   \n",
       "2  1.197188   1.197188   1.197188  1.197188     1.197188    1.197188   \n",
       "3  1.197188   1.197188   1.197188  1.197188     1.197188    1.197188   \n",
       "4  1.197188   1.197188   1.197188  1.197188     1.197188    1.197188   \n",
       "\n",
       "   auto_imune  tp_classificacao_final  \n",
       "0    2.000000                     8.0  \n",
       "1    1.197188                     5.0  \n",
       "2    1.197188                     5.0  \n",
       "3    1.197188                    10.0  \n",
       "4    1.197188                    10.0  \n",
       "\n",
       "[5 rows x 23 columns]"
      ]
     },
     "execution_count": 12,
     "metadata": {},
     "output_type": "execute_result"
    }
   ],
   "source": [
    "df2.head()"
   ]
  },
  {
   "cell_type": "code",
   "execution_count": 13,
   "id": "d9c12735",
   "metadata": {},
   "outputs": [],
   "source": [
    "#df3=df.fillna({'tp_gestante':df['tp_gestante'].mean(),'febre':df['febre'].mode()[0],'mialgia':df['mialgia'].mean(),'cefaleia':df['cefaleia'].mean(),'exantema':df['exantema'].mean(),'vomito':df['vomito'].mean(),'nausea':df['nausea'].mean(),'dor_costas':df['dor_costas'].mean(),'conjutivite':df['conjutivite'].mean(),'artrite':df['artrite'].mean(),'artralgia':df['artralgia'].mean(),'petequia_n':df['petequia_n'].mean(),'laco':df['laco'].mean(),'dor_retro':df['dor_retro'].mean(),'diabetes':df['diabetes'].mean(),'hematolog':df['hematolog'].mean(),'hepatopat':df['hepatopat'].mean(),'renal':df['renal'].mean(),'hipertensao':df['hipertensao'].mean(),'acido_pept':df['acido_pept'].mean(),'auto_imune':df['auto_imune'].mean()})\n",
    "df3=df.fillna({'tp_gestante':df['tp_gestante'].mode()[0],'tp_zona_residencia':df['tp_zona_residencia'].mode()[0],\n",
    "               'febre':df['febre'].mode()[0],'mialgia':df['mialgia'].mode()[0],\n",
    "               'cefaleia':df['cefaleia'].mode()[0],'exantema':df['exantema'].mode()[0],'vomito':df['vomito'].mode()[0],\n",
    "               'nausea':df['nausea'].mode()[0],'dor_costas':df['dor_costas'].mode()[0],'conjutivite':df['conjutivite'].mode()[0],\n",
    "               'artrite':df['artrite'].mode()[0],'artralgia':df['artralgia'].mode()[0],'petequia_n':df['petequia_n'].mode()[0],\n",
    "               'laco':df['laco'].mode()[0],'dor_retro':df['dor_retro'].mode()[0],'diabetes':df['diabetes'].mode()[0],\n",
    "               'hematolog':df['hematolog'].mode()[0],'hepatopat':df['hepatopat'].mode()[0],'renal':df['renal'].mode()[0],\n",
    "               'hipertensao':df['hipertensao'].mode()[0],'acido_pept':df['acido_pept'].mode()[0],'auto_imune':df['auto_imune'].mode()[0]})"
   ]
  },
  {
   "cell_type": "code",
   "execution_count": 14,
   "id": "1274195f",
   "metadata": {},
   "outputs": [
    {
     "data": {
      "text/html": [
       "<div>\n",
       "<style scoped>\n",
       "    .dataframe tbody tr th:only-of-type {\n",
       "        vertical-align: middle;\n",
       "    }\n",
       "\n",
       "    .dataframe tbody tr th {\n",
       "        vertical-align: top;\n",
       "    }\n",
       "\n",
       "    .dataframe thead th {\n",
       "        text-align: right;\n",
       "    }\n",
       "</style>\n",
       "<table border=\"1\" class=\"dataframe\">\n",
       "  <thead>\n",
       "    <tr style=\"text-align: right;\">\n",
       "      <th></th>\n",
       "      <th>tp_gestante</th>\n",
       "      <th>tp_zona_residencia</th>\n",
       "      <th>febre</th>\n",
       "      <th>mialgia</th>\n",
       "      <th>cefaleia</th>\n",
       "      <th>exantema</th>\n",
       "      <th>vomito</th>\n",
       "      <th>nausea</th>\n",
       "      <th>dor_costas</th>\n",
       "      <th>conjutivite</th>\n",
       "      <th>...</th>\n",
       "      <th>laco</th>\n",
       "      <th>dor_retro</th>\n",
       "      <th>diabetes</th>\n",
       "      <th>hematolog</th>\n",
       "      <th>hepatopat</th>\n",
       "      <th>renal</th>\n",
       "      <th>hipertensao</th>\n",
       "      <th>acido_pept</th>\n",
       "      <th>auto_imune</th>\n",
       "      <th>tp_classificacao_final</th>\n",
       "    </tr>\n",
       "  </thead>\n",
       "  <tbody>\n",
       "    <tr>\n",
       "      <th>0</th>\n",
       "      <td>6.0</td>\n",
       "      <td>1.0</td>\n",
       "      <td>1.0</td>\n",
       "      <td>2.0</td>\n",
       "      <td>2.0</td>\n",
       "      <td>2.0</td>\n",
       "      <td>1.0</td>\n",
       "      <td>2.0</td>\n",
       "      <td>2.0</td>\n",
       "      <td>2.0</td>\n",
       "      <td>...</td>\n",
       "      <td>2.0</td>\n",
       "      <td>1.0</td>\n",
       "      <td>2.0</td>\n",
       "      <td>2.0</td>\n",
       "      <td>2.0</td>\n",
       "      <td>2.0</td>\n",
       "      <td>2.0</td>\n",
       "      <td>2.0</td>\n",
       "      <td>2.0</td>\n",
       "      <td>8.0</td>\n",
       "    </tr>\n",
       "    <tr>\n",
       "      <th>1</th>\n",
       "      <td>6.0</td>\n",
       "      <td>1.0</td>\n",
       "      <td>1.0</td>\n",
       "      <td>1.0</td>\n",
       "      <td>1.0</td>\n",
       "      <td>2.0</td>\n",
       "      <td>2.0</td>\n",
       "      <td>2.0</td>\n",
       "      <td>2.0</td>\n",
       "      <td>2.0</td>\n",
       "      <td>...</td>\n",
       "      <td>2.0</td>\n",
       "      <td>2.0</td>\n",
       "      <td>2.0</td>\n",
       "      <td>2.0</td>\n",
       "      <td>2.0</td>\n",
       "      <td>2.0</td>\n",
       "      <td>2.0</td>\n",
       "      <td>2.0</td>\n",
       "      <td>2.0</td>\n",
       "      <td>5.0</td>\n",
       "    </tr>\n",
       "    <tr>\n",
       "      <th>2</th>\n",
       "      <td>6.0</td>\n",
       "      <td>1.0</td>\n",
       "      <td>1.0</td>\n",
       "      <td>1.0</td>\n",
       "      <td>1.0</td>\n",
       "      <td>2.0</td>\n",
       "      <td>2.0</td>\n",
       "      <td>2.0</td>\n",
       "      <td>2.0</td>\n",
       "      <td>2.0</td>\n",
       "      <td>...</td>\n",
       "      <td>2.0</td>\n",
       "      <td>2.0</td>\n",
       "      <td>2.0</td>\n",
       "      <td>2.0</td>\n",
       "      <td>2.0</td>\n",
       "      <td>2.0</td>\n",
       "      <td>2.0</td>\n",
       "      <td>2.0</td>\n",
       "      <td>2.0</td>\n",
       "      <td>5.0</td>\n",
       "    </tr>\n",
       "    <tr>\n",
       "      <th>3</th>\n",
       "      <td>6.0</td>\n",
       "      <td>1.0</td>\n",
       "      <td>1.0</td>\n",
       "      <td>1.0</td>\n",
       "      <td>1.0</td>\n",
       "      <td>2.0</td>\n",
       "      <td>2.0</td>\n",
       "      <td>2.0</td>\n",
       "      <td>2.0</td>\n",
       "      <td>2.0</td>\n",
       "      <td>...</td>\n",
       "      <td>2.0</td>\n",
       "      <td>2.0</td>\n",
       "      <td>2.0</td>\n",
       "      <td>2.0</td>\n",
       "      <td>2.0</td>\n",
       "      <td>2.0</td>\n",
       "      <td>2.0</td>\n",
       "      <td>2.0</td>\n",
       "      <td>2.0</td>\n",
       "      <td>10.0</td>\n",
       "    </tr>\n",
       "    <tr>\n",
       "      <th>4</th>\n",
       "      <td>5.0</td>\n",
       "      <td>1.0</td>\n",
       "      <td>1.0</td>\n",
       "      <td>1.0</td>\n",
       "      <td>1.0</td>\n",
       "      <td>2.0</td>\n",
       "      <td>2.0</td>\n",
       "      <td>2.0</td>\n",
       "      <td>2.0</td>\n",
       "      <td>2.0</td>\n",
       "      <td>...</td>\n",
       "      <td>2.0</td>\n",
       "      <td>2.0</td>\n",
       "      <td>2.0</td>\n",
       "      <td>2.0</td>\n",
       "      <td>2.0</td>\n",
       "      <td>2.0</td>\n",
       "      <td>2.0</td>\n",
       "      <td>2.0</td>\n",
       "      <td>2.0</td>\n",
       "      <td>10.0</td>\n",
       "    </tr>\n",
       "  </tbody>\n",
       "</table>\n",
       "<p>5 rows × 23 columns</p>\n",
       "</div>"
      ],
      "text/plain": [
       "   tp_gestante  tp_zona_residencia  febre  mialgia  cefaleia  exantema  \\\n",
       "0          6.0                 1.0    1.0      2.0       2.0       2.0   \n",
       "1          6.0                 1.0    1.0      1.0       1.0       2.0   \n",
       "2          6.0                 1.0    1.0      1.0       1.0       2.0   \n",
       "3          6.0                 1.0    1.0      1.0       1.0       2.0   \n",
       "4          5.0                 1.0    1.0      1.0       1.0       2.0   \n",
       "\n",
       "   vomito  nausea  dor_costas  conjutivite  ...  laco  dor_retro  diabetes  \\\n",
       "0     1.0     2.0         2.0          2.0  ...   2.0        1.0       2.0   \n",
       "1     2.0     2.0         2.0          2.0  ...   2.0        2.0       2.0   \n",
       "2     2.0     2.0         2.0          2.0  ...   2.0        2.0       2.0   \n",
       "3     2.0     2.0         2.0          2.0  ...   2.0        2.0       2.0   \n",
       "4     2.0     2.0         2.0          2.0  ...   2.0        2.0       2.0   \n",
       "\n",
       "   hematolog  hepatopat  renal  hipertensao  acido_pept  auto_imune  \\\n",
       "0        2.0        2.0    2.0          2.0         2.0         2.0   \n",
       "1        2.0        2.0    2.0          2.0         2.0         2.0   \n",
       "2        2.0        2.0    2.0          2.0         2.0         2.0   \n",
       "3        2.0        2.0    2.0          2.0         2.0         2.0   \n",
       "4        2.0        2.0    2.0          2.0         2.0         2.0   \n",
       "\n",
       "   tp_classificacao_final  \n",
       "0                     8.0  \n",
       "1                     5.0  \n",
       "2                     5.0  \n",
       "3                    10.0  \n",
       "4                    10.0  \n",
       "\n",
       "[5 rows x 23 columns]"
      ]
     },
     "execution_count": 14,
     "metadata": {},
     "output_type": "execute_result"
    }
   ],
   "source": [
    "df3.head()"
   ]
  },
  {
   "cell_type": "code",
   "execution_count": 15,
   "id": "e177d41a",
   "metadata": {},
   "outputs": [
    {
     "data": {
      "text/plain": [
       "<Axes: >"
      ]
     },
     "execution_count": 15,
     "metadata": {},
     "output_type": "execute_result"
    },
    {
     "data": {
      "image/png": "[encoded data removed]",
      "text/plain": [
       "<Figure size 640x480 with 1 Axes>"
      ]
     },
     "metadata": {},
     "output_type": "display_data"
    }
   ],
   "source": [
    "sns.heatmap(df3.isnull(),yticklabels=False,cbar=False,cmap='viridis')"
   ]
  },
  {
   "cell_type": "code",
   "execution_count": 16,
   "id": "0014bf4c",
   "metadata": {},
   "outputs": [
    {
     "data": {
      "text/plain": [
       "<Axes: xlabel='tp_classificacao_final', ylabel='count'>"
      ]
     },
     "execution_count": 16,
     "metadata": {},
     "output_type": "execute_result"
    },
    {
     "data": {
      "image/png": "[encoded data removed]",
      "text/plain": [
       "<Figure size 640x480 with 1 Axes>"
      ]
     },
     "metadata": {},
     "output_type": "display_data"
    }
   ],
   "source": [
    "sns.set_style('whitegrid')\n",
    "sns.countplot(x='tp_classificacao_final',data=df3,palette='RdBu_r')"
   ]
  },
  {
   "cell_type": "code",
   "execution_count": 17,
   "id": "2db24b3b",
   "metadata": {},
   "outputs": [
    {
     "data": {
      "text/plain": [
       "<Axes: xlabel='tp_classificacao_final', ylabel='count'>"
      ]
     },
     "execution_count": 17,
     "metadata": {},
     "output_type": "execute_result"
    },
    {
     "data": {
      "image/png": "[encoded data removed]",
      "text/plain": [
       "<Figure size 640x480 with 1 Axes>"
      ]
     },
     "metadata": {},
     "output_type": "display_data"
    }
   ],
   "source": [
    "sns.set_style('whitegrid')\n",
    "sns.countplot(x='tp_classificacao_final',hue='febre',data=df3,palette='RdBu_r')"
   ]
  },
  {
   "cell_type": "code",
   "execution_count": 18,
   "id": "c1a6012f",
   "metadata": {},
   "outputs": [],
   "source": [
    "x=df3.iloc[:,:-1]\n",
    "y=df.iloc[:,22]"
   ]
  },
  {
   "cell_type": "code",
   "execution_count": 19,
   "id": "68b1a82a",
   "metadata": {},
   "outputs": [
    {
     "data": {
      "text/html": [
       "<div>\n",
       "<style scoped>\n",
       "    .dataframe tbody tr th:only-of-type {\n",
       "        vertical-align: middle;\n",
       "    }\n",
       "\n",
       "    .dataframe tbody tr th {\n",
       "        vertical-align: top;\n",
       "    }\n",
       "\n",
       "    .dataframe thead th {\n",
       "        text-align: right;\n",
       "    }\n",
       "</style>\n",
       "<table border=\"1\" class=\"dataframe\">\n",
       "  <thead>\n",
       "    <tr style=\"text-align: right;\">\n",
       "      <th></th>\n",
       "      <th>tp_gestante</th>\n",
       "      <th>tp_zona_residencia</th>\n",
       "      <th>febre</th>\n",
       "      <th>mialgia</th>\n",
       "      <th>cefaleia</th>\n",
       "      <th>exantema</th>\n",
       "      <th>vomito</th>\n",
       "      <th>nausea</th>\n",
       "      <th>dor_costas</th>\n",
       "      <th>conjutivite</th>\n",
       "      <th>...</th>\n",
       "      <th>petequia_n</th>\n",
       "      <th>laco</th>\n",
       "      <th>dor_retro</th>\n",
       "      <th>diabetes</th>\n",
       "      <th>hematolog</th>\n",
       "      <th>hepatopat</th>\n",
       "      <th>renal</th>\n",
       "      <th>hipertensao</th>\n",
       "      <th>acido_pept</th>\n",
       "      <th>auto_imune</th>\n",
       "    </tr>\n",
       "  </thead>\n",
       "  <tbody>\n",
       "    <tr>\n",
       "      <th>0</th>\n",
       "      <td>6.0</td>\n",
       "      <td>1.0</td>\n",
       "      <td>1.0</td>\n",
       "      <td>2.0</td>\n",
       "      <td>2.0</td>\n",
       "      <td>2.0</td>\n",
       "      <td>1.0</td>\n",
       "      <td>2.0</td>\n",
       "      <td>2.0</td>\n",
       "      <td>2.0</td>\n",
       "      <td>...</td>\n",
       "      <td>2.0</td>\n",
       "      <td>2.0</td>\n",
       "      <td>1.0</td>\n",
       "      <td>2.0</td>\n",
       "      <td>2.0</td>\n",
       "      <td>2.0</td>\n",
       "      <td>2.0</td>\n",
       "      <td>2.0</td>\n",
       "      <td>2.0</td>\n",
       "      <td>2.0</td>\n",
       "    </tr>\n",
       "    <tr>\n",
       "      <th>1</th>\n",
       "      <td>6.0</td>\n",
       "      <td>1.0</td>\n",
       "      <td>1.0</td>\n",
       "      <td>1.0</td>\n",
       "      <td>1.0</td>\n",
       "      <td>2.0</td>\n",
       "      <td>2.0</td>\n",
       "      <td>2.0</td>\n",
       "      <td>2.0</td>\n",
       "      <td>2.0</td>\n",
       "      <td>...</td>\n",
       "      <td>2.0</td>\n",
       "      <td>2.0</td>\n",
       "      <td>2.0</td>\n",
       "      <td>2.0</td>\n",
       "      <td>2.0</td>\n",
       "      <td>2.0</td>\n",
       "      <td>2.0</td>\n",
       "      <td>2.0</td>\n",
       "      <td>2.0</td>\n",
       "      <td>2.0</td>\n",
       "    </tr>\n",
       "    <tr>\n",
       "      <th>2</th>\n",
       "      <td>6.0</td>\n",
       "      <td>1.0</td>\n",
       "      <td>1.0</td>\n",
       "      <td>1.0</td>\n",
       "      <td>1.0</td>\n",
       "      <td>2.0</td>\n",
       "      <td>2.0</td>\n",
       "      <td>2.0</td>\n",
       "      <td>2.0</td>\n",
       "      <td>2.0</td>\n",
       "      <td>...</td>\n",
       "      <td>2.0</td>\n",
       "      <td>2.0</td>\n",
       "      <td>2.0</td>\n",
       "      <td>2.0</td>\n",
       "      <td>2.0</td>\n",
       "      <td>2.0</td>\n",
       "      <td>2.0</td>\n",
       "      <td>2.0</td>\n",
       "      <td>2.0</td>\n",
       "      <td>2.0</td>\n",
       "    </tr>\n",
       "    <tr>\n",
       "      <th>3</th>\n",
       "      <td>6.0</td>\n",
       "      <td>1.0</td>\n",
       "      <td>1.0</td>\n",
       "      <td>1.0</td>\n",
       "      <td>1.0</td>\n",
       "      <td>2.0</td>\n",
       "      <td>2.0</td>\n",
       "      <td>2.0</td>\n",
       "      <td>2.0</td>\n",
       "      <td>2.0</td>\n",
       "      <td>...</td>\n",
       "      <td>2.0</td>\n",
       "      <td>2.0</td>\n",
       "      <td>2.0</td>\n",
       "      <td>2.0</td>\n",
       "      <td>2.0</td>\n",
       "      <td>2.0</td>\n",
       "      <td>2.0</td>\n",
       "      <td>2.0</td>\n",
       "      <td>2.0</td>\n",
       "      <td>2.0</td>\n",
       "    </tr>\n",
       "    <tr>\n",
       "      <th>4</th>\n",
       "      <td>5.0</td>\n",
       "      <td>1.0</td>\n",
       "      <td>1.0</td>\n",
       "      <td>1.0</td>\n",
       "      <td>1.0</td>\n",
       "      <td>2.0</td>\n",
       "      <td>2.0</td>\n",
       "      <td>2.0</td>\n",
       "      <td>2.0</td>\n",
       "      <td>2.0</td>\n",
       "      <td>...</td>\n",
       "      <td>2.0</td>\n",
       "      <td>2.0</td>\n",
       "      <td>2.0</td>\n",
       "      <td>2.0</td>\n",
       "      <td>2.0</td>\n",
       "      <td>2.0</td>\n",
       "      <td>2.0</td>\n",
       "      <td>2.0</td>\n",
       "      <td>2.0</td>\n",
       "      <td>2.0</td>\n",
       "    </tr>\n",
       "    <tr>\n",
       "      <th>...</th>\n",
       "      <td>...</td>\n",
       "      <td>...</td>\n",
       "      <td>...</td>\n",
       "      <td>...</td>\n",
       "      <td>...</td>\n",
       "      <td>...</td>\n",
       "      <td>...</td>\n",
       "      <td>...</td>\n",
       "      <td>...</td>\n",
       "      <td>...</td>\n",
       "      <td>...</td>\n",
       "      <td>...</td>\n",
       "      <td>...</td>\n",
       "      <td>...</td>\n",
       "      <td>...</td>\n",
       "      <td>...</td>\n",
       "      <td>...</td>\n",
       "      <td>...</td>\n",
       "      <td>...</td>\n",
       "      <td>...</td>\n",
       "      <td>...</td>\n",
       "    </tr>\n",
       "    <tr>\n",
       "      <th>83023</th>\n",
       "      <td>9.0</td>\n",
       "      <td>1.0</td>\n",
       "      <td>1.0</td>\n",
       "      <td>1.0</td>\n",
       "      <td>1.0</td>\n",
       "      <td>1.0</td>\n",
       "      <td>1.0</td>\n",
       "      <td>1.0</td>\n",
       "      <td>2.0</td>\n",
       "      <td>2.0</td>\n",
       "      <td>...</td>\n",
       "      <td>2.0</td>\n",
       "      <td>2.0</td>\n",
       "      <td>1.0</td>\n",
       "      <td>2.0</td>\n",
       "      <td>2.0</td>\n",
       "      <td>2.0</td>\n",
       "      <td>2.0</td>\n",
       "      <td>2.0</td>\n",
       "      <td>2.0</td>\n",
       "      <td>2.0</td>\n",
       "    </tr>\n",
       "    <tr>\n",
       "      <th>83034</th>\n",
       "      <td>6.0</td>\n",
       "      <td>1.0</td>\n",
       "      <td>1.0</td>\n",
       "      <td>2.0</td>\n",
       "      <td>2.0</td>\n",
       "      <td>2.0</td>\n",
       "      <td>2.0</td>\n",
       "      <td>2.0</td>\n",
       "      <td>2.0</td>\n",
       "      <td>2.0</td>\n",
       "      <td>...</td>\n",
       "      <td>2.0</td>\n",
       "      <td>2.0</td>\n",
       "      <td>2.0</td>\n",
       "      <td>2.0</td>\n",
       "      <td>2.0</td>\n",
       "      <td>2.0</td>\n",
       "      <td>2.0</td>\n",
       "      <td>2.0</td>\n",
       "      <td>2.0</td>\n",
       "      <td>2.0</td>\n",
       "    </tr>\n",
       "    <tr>\n",
       "      <th>83039</th>\n",
       "      <td>5.0</td>\n",
       "      <td>1.0</td>\n",
       "      <td>1.0</td>\n",
       "      <td>1.0</td>\n",
       "      <td>1.0</td>\n",
       "      <td>2.0</td>\n",
       "      <td>2.0</td>\n",
       "      <td>1.0</td>\n",
       "      <td>1.0</td>\n",
       "      <td>2.0</td>\n",
       "      <td>...</td>\n",
       "      <td>2.0</td>\n",
       "      <td>2.0</td>\n",
       "      <td>1.0</td>\n",
       "      <td>2.0</td>\n",
       "      <td>2.0</td>\n",
       "      <td>2.0</td>\n",
       "      <td>2.0</td>\n",
       "      <td>2.0</td>\n",
       "      <td>2.0</td>\n",
       "      <td>2.0</td>\n",
       "    </tr>\n",
       "    <tr>\n",
       "      <th>83067</th>\n",
       "      <td>6.0</td>\n",
       "      <td>1.0</td>\n",
       "      <td>1.0</td>\n",
       "      <td>1.0</td>\n",
       "      <td>1.0</td>\n",
       "      <td>1.0</td>\n",
       "      <td>2.0</td>\n",
       "      <td>2.0</td>\n",
       "      <td>2.0</td>\n",
       "      <td>2.0</td>\n",
       "      <td>...</td>\n",
       "      <td>2.0</td>\n",
       "      <td>2.0</td>\n",
       "      <td>2.0</td>\n",
       "      <td>2.0</td>\n",
       "      <td>2.0</td>\n",
       "      <td>2.0</td>\n",
       "      <td>2.0</td>\n",
       "      <td>2.0</td>\n",
       "      <td>1.0</td>\n",
       "      <td>2.0</td>\n",
       "    </tr>\n",
       "    <tr>\n",
       "      <th>83069</th>\n",
       "      <td>6.0</td>\n",
       "      <td>1.0</td>\n",
       "      <td>1.0</td>\n",
       "      <td>1.0</td>\n",
       "      <td>1.0</td>\n",
       "      <td>2.0</td>\n",
       "      <td>2.0</td>\n",
       "      <td>2.0</td>\n",
       "      <td>2.0</td>\n",
       "      <td>2.0</td>\n",
       "      <td>...</td>\n",
       "      <td>2.0</td>\n",
       "      <td>2.0</td>\n",
       "      <td>2.0</td>\n",
       "      <td>2.0</td>\n",
       "      <td>2.0</td>\n",
       "      <td>2.0</td>\n",
       "      <td>2.0</td>\n",
       "      <td>2.0</td>\n",
       "      <td>2.0</td>\n",
       "      <td>2.0</td>\n",
       "    </tr>\n",
       "  </tbody>\n",
       "</table>\n",
       "<p>74918 rows × 22 columns</p>\n",
       "</div>"
      ],
      "text/plain": [
       "       tp_gestante  tp_zona_residencia  febre  mialgia  cefaleia  exantema  \\\n",
       "0              6.0                 1.0    1.0      2.0       2.0       2.0   \n",
       "1              6.0                 1.0    1.0      1.0       1.0       2.0   \n",
       "2              6.0                 1.0    1.0      1.0       1.0       2.0   \n",
       "3              6.0                 1.0    1.0      1.0       1.0       2.0   \n",
       "4              5.0                 1.0    1.0      1.0       1.0       2.0   \n",
       "...            ...                 ...    ...      ...       ...       ...   \n",
       "83023          9.0                 1.0    1.0      1.0       1.0       1.0   \n",
       "83034          6.0                 1.0    1.0      2.0       2.0       2.0   \n",
       "83039          5.0                 1.0    1.0      1.0       1.0       2.0   \n",
       "83067          6.0                 1.0    1.0      1.0       1.0       1.0   \n",
       "83069          6.0                 1.0    1.0      1.0       1.0       2.0   \n",
       "\n",
       "       vomito  nausea  dor_costas  conjutivite  ...  petequia_n  laco  \\\n",
       "0         1.0     2.0         2.0          2.0  ...         2.0   2.0   \n",
       "1         2.0     2.0         2.0          2.0  ...         2.0   2.0   \n",
       "2         2.0     2.0         2.0          2.0  ...         2.0   2.0   \n",
       "3         2.0     2.0         2.0          2.0  ...         2.0   2.0   \n",
       "4         2.0     2.0         2.0          2.0  ...         2.0   2.0   \n",
       "...       ...     ...         ...          ...  ...         ...   ...   \n",
       "83023     1.0     1.0         2.0          2.0  ...         2.0   2.0   \n",
       "83034     2.0     2.0         2.0          2.0  ...         2.0   2.0   \n",
       "83039     2.0     1.0         1.0          2.0  ...         2.0   2.0   \n",
       "83067     2.0     2.0         2.0          2.0  ...         2.0   2.0   \n",
       "83069     2.0     2.0         2.0          2.0  ...         2.0   2.0   \n",
       "\n",
       "       dor_retro  diabetes  hematolog  hepatopat  renal  hipertensao  \\\n",
       "0            1.0       2.0        2.0        2.0    2.0          2.0   \n",
       "1            2.0       2.0        2.0        2.0    2.0          2.0   \n",
       "2            2.0       2.0        2.0        2.0    2.0          2.0   \n",
       "3            2.0       2.0        2.0        2.0    2.0          2.0   \n",
       "4            2.0       2.0        2.0        2.0    2.0          2.0   \n",
       "...          ...       ...        ...        ...    ...          ...   \n",
       "83023        1.0       2.0        2.0        2.0    2.0          2.0   \n",
       "83034        2.0       2.0        2.0        2.0    2.0          2.0   \n",
       "83039        1.0       2.0        2.0        2.0    2.0          2.0   \n",
       "83067        2.0       2.0        2.0        2.0    2.0          2.0   \n",
       "83069        2.0       2.0        2.0        2.0    2.0          2.0   \n",
       "\n",
       "       acido_pept  auto_imune  \n",
       "0             2.0         2.0  \n",
       "1             2.0         2.0  \n",
       "2             2.0         2.0  \n",
       "3             2.0         2.0  \n",
       "4             2.0         2.0  \n",
       "...           ...         ...  \n",
       "83023         2.0         2.0  \n",
       "83034         2.0         2.0  \n",
       "83039         2.0         2.0  \n",
       "83067         1.0         2.0  \n",
       "83069         2.0         2.0  \n",
       "\n",
       "[74918 rows x 22 columns]"
      ]
     },
     "execution_count": 19,
     "metadata": {},
     "output_type": "execute_result"
    }
   ],
   "source": [
    "x"
   ]
  },
  {
   "cell_type": "code",
   "execution_count": 20,
   "id": "72a670aa",
   "metadata": {},
   "outputs": [],
   "source": [
    "classifier=tree.DecisionTreeClassifier()"
   ]
  },
  {
   "cell_type": "code",
   "execution_count": 21,
   "id": "66b47f1b",
   "metadata": {},
   "outputs": [],
   "source": [
    "classifier=classifier.fit(x,y)"
   ]
  },
  {
   "cell_type": "code",
   "execution_count": 22,
   "id": "b4576bda",
   "metadata": {},
   "outputs": [
    {
     "name": "stderr",
     "output_type": "stream",
     "text": [
      "C:\\Users\\OBYDUL HAQUE EMON\\anaconda3\\Lib\\site-packages\\sklearn\\base.py:464: UserWarning: X does not have valid feature names, but DecisionTreeClassifier was fitted with feature names\n",
      "  warnings.warn(\n"
     ]
    }
   ],
   "source": [
    "prediction=classifier.predict([[6,1,2,1,2,2,1,2,2,2,2,2,2,2,1,2,2,2,2,2,2,2]])"
   ]
  },
  {
   "cell_type": "code",
   "execution_count": 23,
   "id": "d062398d",
   "metadata": {},
   "outputs": [
    {
     "data": {
      "text/plain": [
       "array([5.])"
      ]
     },
     "execution_count": 23,
     "metadata": {},
     "output_type": "execute_result"
    }
   ],
   "source": [
    "prediction"
   ]
  },
  {
   "cell_type": "code",
   "execution_count": 24,
   "id": "3886f3d5",
   "metadata": {},
   "outputs": [],
   "source": [
    "from sklearn.model_selection import train_test_split"
   ]
  },
  {
   "cell_type": "code",
   "execution_count": 25,
   "id": "af0cb070",
   "metadata": {},
   "outputs": [],
   "source": [
    "xtrain, xtest, ytrain, ytest = train_test_split(x,y,test_size=.20, random_state=1)"
   ]
  },
  {
   "cell_type": "code",
   "execution_count": 26,
   "id": "d848c6f6",
   "metadata": {},
   "outputs": [],
   "source": [
    "classifier_=tree.DecisionTreeClassifier()"
   ]
  },
  {
   "cell_type": "code",
   "execution_count": 27,
   "id": "88d119c5",
   "metadata": {},
   "outputs": [],
   "source": [
    "classifier_=classifier_.fit(xtrain,ytrain)"
   ]
  },
  {
   "cell_type": "code",
   "execution_count": 28,
   "id": "1e492cf6",
   "metadata": {},
   "outputs": [
    {
     "name": "stderr",
     "output_type": "stream",
     "text": [
      "C:\\Users\\OBYDUL HAQUE EMON\\anaconda3\\Lib\\site-packages\\sklearn\\base.py:464: UserWarning: X does not have valid feature names, but DecisionTreeClassifier was fitted with feature names\n",
      "  warnings.warn(\n"
     ]
    }
   ],
   "source": [
    "prediction_=classifier.predict([[6,1,2,1,2,2,1,2,2,2,2,2,2,2,1,2,2,2,2,2,2,2]])"
   ]
  },
  {
   "cell_type": "code",
   "execution_count": 29,
   "id": "1a312edf",
   "metadata": {},
   "outputs": [
    {
     "data": {
      "text/plain": [
       "array([5.])"
      ]
     },
     "execution_count": 29,
     "metadata": {},
     "output_type": "execute_result"
    }
   ],
   "source": [
    "prediction_"
   ]
  },
  {
   "cell_type": "code",
   "execution_count": 30,
   "id": "4d794916",
   "metadata": {},
   "outputs": [
    {
     "data": {
      "text/plain": [
       "0.6035771489588895"
      ]
     },
     "execution_count": 30,
     "metadata": {},
     "output_type": "execute_result"
    }
   ],
   "source": [
    "classifier_.score(xtest,ytest)"
   ]
  },
  {
   "cell_type": "code",
   "execution_count": 31,
   "id": "1c199eac",
   "metadata": {},
   "outputs": [],
   "source": [
    "pred=classifier_.predict(xtest)"
   ]
  },
  {
   "cell_type": "code",
   "execution_count": 32,
   "id": "4b9e7bcc",
   "metadata": {},
   "outputs": [
    {
     "data": {
      "text/plain": [
       "array([10., 10., 13., ..., 10., 10., 10.])"
      ]
     },
     "execution_count": 32,
     "metadata": {},
     "output_type": "execute_result"
    }
   ],
   "source": [
    "pred"
   ]
  },
  {
   "cell_type": "code",
   "execution_count": 33,
   "id": "c3c09848",
   "metadata": {},
   "outputs": [],
   "source": [
    "from sklearn.metrics import accuracy_score"
   ]
  },
  {
   "cell_type": "code",
   "execution_count": 34,
   "id": "2e6b84d7",
   "metadata": {},
   "outputs": [
    {
     "data": {
      "text/plain": [
       "0.6035771489588895"
      ]
     },
     "execution_count": 34,
     "metadata": {},
     "output_type": "execute_result"
    }
   ],
   "source": [
    "accuracy_score(ytest,pred)"
   ]
  },
  {
   "cell_type": "code",
   "execution_count": 35,
   "id": "47d5f5da",
   "metadata": {},
   "outputs": [],
   "source": [
    "from sklearn.metrics import confusion_matrix"
   ]
  },
  {
   "cell_type": "code",
   "execution_count": 36,
   "id": "8609caf1",
   "metadata": {},
   "outputs": [
    {
     "data": {
      "text/plain": [
       "array([[1444,   24, 2674,  256],\n",
       "       [  89,    3,  968,   27],\n",
       "       [ 735,   11, 7091,  315],\n",
       "       [ 231,    8,  602,  506]], dtype=int64)"
      ]
     },
     "execution_count": 36,
     "metadata": {},
     "output_type": "execute_result"
    }
   ],
   "source": [
    "confusion_matrix(ytest,pred)"
   ]
  },
  {
   "cell_type": "code",
   "execution_count": 37,
   "id": "1c25124e",
   "metadata": {},
   "outputs": [],
   "source": [
    "from sklearn.metrics import classification_report"
   ]
  },
  {
   "cell_type": "code",
   "execution_count": 38,
   "id": "73a73bf5",
   "metadata": {},
   "outputs": [
    {
     "name": "stdout",
     "output_type": "stream",
     "text": [
      "              precision    recall  f1-score   support\n",
      "\n",
      "         5.0       0.58      0.33      0.42      4398\n",
      "         8.0       0.07      0.00      0.01      1087\n",
      "        10.0       0.63      0.87      0.73      8152\n",
      "        13.0       0.46      0.38      0.41      1347\n",
      "\n",
      "    accuracy                           0.60     14984\n",
      "   macro avg       0.43      0.39      0.39     14984\n",
      "weighted avg       0.56      0.60      0.56     14984\n",
      "\n"
     ]
    }
   ],
   "source": [
    "print(classification_report(ytest,pred))"
   ]
  },
  {
   "cell_type": "code",
   "execution_count": 39,
   "id": "7568d52d",
   "metadata": {},
   "outputs": [
    {
     "data": {
      "text/plain": [
       "0.634747323740623"
      ]
     },
     "execution_count": 39,
     "metadata": {},
     "output_type": "execute_result"
    }
   ],
   "source": [
    "classifier.score(x,y)"
   ]
  },
  {
   "cell_type": "code",
   "execution_count": 40,
   "id": "14117e28",
   "metadata": {},
   "outputs": [],
   "source": [
    "prd=classifier.predict(x)"
   ]
  },
  {
   "cell_type": "code",
   "execution_count": 41,
   "id": "7c50960c",
   "metadata": {},
   "outputs": [
    {
     "data": {
      "text/plain": [
       "0.634747323740623"
      ]
     },
     "execution_count": 41,
     "metadata": {},
     "output_type": "execute_result"
    }
   ],
   "source": [
    "accuracy_score(y,prd)"
   ]
  },
  {
   "cell_type": "code",
   "execution_count": 42,
   "id": "6c20b859",
   "metadata": {},
   "outputs": [
    {
     "data": {
      "text/plain": [
       "array([[ 8089,    10, 12781,   937],\n",
       "       [  380,   144,  4827,    85],\n",
       "       [ 3226,    28, 36248,  1315],\n",
       "       [  973,    23,  2779,  3073]], dtype=int64)"
      ]
     },
     "execution_count": 42,
     "metadata": {},
     "output_type": "execute_result"
    }
   ],
   "source": [
    "confusion_matrix(y,prd)"
   ]
  },
  {
   "cell_type": "code",
   "execution_count": 43,
   "id": "caf08837",
   "metadata": {},
   "outputs": [
    {
     "name": "stdout",
     "output_type": "stream",
     "text": [
      "              precision    recall  f1-score   support\n",
      "\n",
      "         5.0       0.64      0.37      0.47     21817\n",
      "         8.0       0.70      0.03      0.05      5436\n",
      "        10.0       0.64      0.89      0.74     40817\n",
      "        13.0       0.57      0.45      0.50      6848\n",
      "\n",
      "    accuracy                           0.63     74918\n",
      "   macro avg       0.64      0.43      0.44     74918\n",
      "weighted avg       0.64      0.63      0.59     74918\n",
      "\n"
     ]
    }
   ],
   "source": [
    "print(classification_report(y,prd))"
   ]
  },
  {
   "cell_type": "code",
   "execution_count": null,
   "id": "7c813ef6",
   "metadata": {},
   "outputs": [],
   "source": []
  },
  {
   "cell_type": "code",
   "execution_count": 44,
   "id": "53cc4e58",
   "metadata": {},
   "outputs": [],
   "source": [
    "df4=df.fillna({'tp_gestante':df['tp_gestante'].median(),'tp_zona_residencia':df['tp_zona_residencia'].median(),\n",
    "               'febre':df['febre'].median(),'mialgia':df['mialgia'].median(),\n",
    "               'cefaleia':df['cefaleia'].median(),'exantema':df['exantema'].median(),'vomito':df['vomito'].median(),\n",
    "               'nausea':df['nausea'].median(),'dor_costas':df['dor_costas'].median(),'conjutivite':df['conjutivite'].median(),\n",
    "               'artrite':df['artrite'].median(),'artralgia':df['artralgia'].median(),'petequia_n':df['petequia_n'].median(),\n",
    "               'laco':df['laco'].median(),'dor_retro':df['dor_retro'].median(),'diabetes':df['diabetes'].median(),\n",
    "               'hematolog':df['hematolog'].median(),'hepatopat':df['hepatopat'].median(),'renal':df['renal'].median(),\n",
    "               'hipertensao':df['hipertensao'].median(),'acido_pept':df['acido_pept'].median(),'auto_imune':df['auto_imune'].median()})"
   ]
  },
  {
   "cell_type": "code",
   "execution_count": 45,
   "id": "473a6047",
   "metadata": {},
   "outputs": [
    {
     "data": {
      "text/plain": [
       "tp_gestante               0\n",
       "tp_zona_residencia        0\n",
       "febre                     0\n",
       "mialgia                   0\n",
       "cefaleia                  0\n",
       "exantema                  0\n",
       "vomito                    0\n",
       "nausea                    0\n",
       "dor_costas                0\n",
       "conjutivite               0\n",
       "artrite                   0\n",
       "artralgia                 0\n",
       "petequia_n                0\n",
       "laco                      0\n",
       "dor_retro                 0\n",
       "diabetes                  0\n",
       "hematolog                 0\n",
       "hepatopat                 0\n",
       "renal                     0\n",
       "hipertensao               0\n",
       "acido_pept                0\n",
       "auto_imune                0\n",
       "tp_classificacao_final    0\n",
       "dtype: int64"
      ]
     },
     "execution_count": 45,
     "metadata": {},
     "output_type": "execute_result"
    }
   ],
   "source": [
    "df4.isnull().sum()"
   ]
  },
  {
   "cell_type": "code",
   "execution_count": 46,
   "id": "9b98db5f",
   "metadata": {},
   "outputs": [],
   "source": [
    "a=df4.iloc[:,:-1]\n",
    "b=df4.iloc[:,22]"
   ]
  },
  {
   "cell_type": "code",
   "execution_count": 47,
   "id": "b5290a72",
   "metadata": {},
   "outputs": [],
   "source": [
    "atrain, atest, btrain, btest = train_test_split(a,b,test_size=.20, random_state=1)"
   ]
  },
  {
   "cell_type": "code",
   "execution_count": 48,
   "id": "91e091b2",
   "metadata": {},
   "outputs": [],
   "source": [
    "test4=tree.DecisionTreeClassifier()"
   ]
  },
  {
   "cell_type": "code",
   "execution_count": 49,
   "id": "74d7f335",
   "metadata": {},
   "outputs": [],
   "source": [
    "test4=test4.fit(atrain,btrain)"
   ]
  },
  {
   "cell_type": "code",
   "execution_count": 50,
   "id": "693d5f3b",
   "metadata": {},
   "outputs": [],
   "source": [
    "p=test4.predict(atest)"
   ]
  },
  {
   "cell_type": "code",
   "execution_count": 51,
   "id": "b0a2a815",
   "metadata": {},
   "outputs": [
    {
     "data": {
      "text/plain": [
       "array([10., 10., 13., ..., 10., 10., 10.])"
      ]
     },
     "execution_count": 51,
     "metadata": {},
     "output_type": "execute_result"
    }
   ],
   "source": [
    "p"
   ]
  },
  {
   "cell_type": "code",
   "execution_count": 52,
   "id": "ff992644",
   "metadata": {},
   "outputs": [
    {
     "data": {
      "text/plain": [
       "0.6034436732514682"
      ]
     },
     "execution_count": 52,
     "metadata": {},
     "output_type": "execute_result"
    }
   ],
   "source": [
    "test4.score(atest,btest)"
   ]
  },
  {
   "cell_type": "code",
   "execution_count": null,
   "id": "0111aec2",
   "metadata": {},
   "outputs": [],
   "source": []
  },
  {
   "cell_type": "code",
   "execution_count": null,
   "id": "d3fc475e",
   "metadata": {},
   "outputs": [],
   "source": []
  },
  {
   "cell_type": "code",
   "execution_count": 53,
   "id": "123f5206",
   "metadata": {},
   "outputs": [],
   "source": [
    "from sklearn.linear_model import LinearRegression"
   ]
  },
  {
   "cell_type": "code",
   "execution_count": 54,
   "id": "30e12fb4",
   "metadata": {},
   "outputs": [],
   "source": [
    "reg=LinearRegression()"
   ]
  },
  {
   "cell_type": "code",
   "execution_count": 55,
   "id": "6f7329e0",
   "metadata": {},
   "outputs": [
    {
     "data": {
      "text/html": [
       "<style>#sk-container-id-1 {color: black;}#sk-container-id-1 pre{padding: 0;}#sk-container-id-1 div.sk-toggleable {background-color: white;}#sk-container-id-1 label.sk-toggleable__label {cursor: pointer;display: block;width: 100%;margin-bottom: 0;padding: 0.3em;box-sizing: border-box;text-align: center;}#sk-container-id-1 label.sk-toggleable__label-arrow:before {content: \"▸\";float: left;margin-right: 0.25em;color: #696969;}#sk-container-id-1 label.sk-toggleable__label-arrow:hover:before {color: black;}#sk-container-id-1 div.sk-estimator:hover label.sk-toggleable__label-arrow:before {color: black;}#sk-container-id-1 div.sk-toggleable__content {max-height: 0;max-width: 0;overflow: hidden;text-align: left;background-color: #f0f8ff;}#sk-container-id-1 div.sk-toggleable__content pre {margin: 0.2em;color: black;border-radius: 0.25em;background-color: #f0f8ff;}#sk-container-id-1 input.sk-toggleable__control:checked~div.sk-toggleable__content {max-height: 200px;max-width: 100%;overflow: auto;}#sk-container-id-1 input.sk-toggleable__control:checked~label.sk-toggleable__label-arrow:before {content: \"▾\";}#sk-container-id-1 div.sk-estimator input.sk-toggleable__control:checked~label.sk-toggleable__label {background-color: #d4ebff;}#sk-container-id-1 div.sk-label input.sk-toggleable__control:checked~label.sk-toggleable__label {background-color: #d4ebff;}#sk-container-id-1 input.sk-hidden--visually {border: 0;clip: rect(1px 1px 1px 1px);clip: rect(1px, 1px, 1px, 1px);height: 1px;margin: -1px;overflow: hidden;padding: 0;position: absolute;width: 1px;}#sk-container-id-1 div.sk-estimator {font-family: monospace;background-color: #f0f8ff;border: 1px dotted black;border-radius: 0.25em;box-sizing: border-box;margin-bottom: 0.5em;}#sk-container-id-1 div.sk-estimator:hover {background-color: #d4ebff;}#sk-container-id-1 div.sk-parallel-item::after {content: \"\";width: 100%;border-bottom: 1px solid gray;flex-grow: 1;}#sk-container-id-1 div.sk-label:hover label.sk-toggleable__label {background-color: #d4ebff;}#sk-container-id-1 div.sk-serial::before {content: \"\";position: absolute;border-left: 1px solid gray;box-sizing: border-box;top: 0;bottom: 0;left: 50%;z-index: 0;}#sk-container-id-1 div.sk-serial {display: flex;flex-direction: column;align-items: center;background-color: white;padding-right: 0.2em;padding-left: 0.2em;position: relative;}#sk-container-id-1 div.sk-item {position: relative;z-index: 1;}#sk-container-id-1 div.sk-parallel {display: flex;align-items: stretch;justify-content: center;background-color: white;position: relative;}#sk-container-id-1 div.sk-item::before, #sk-container-id-1 div.sk-parallel-item::before {content: \"\";position: absolute;border-left: 1px solid gray;box-sizing: border-box;top: 0;bottom: 0;left: 50%;z-index: -1;}#sk-container-id-1 div.sk-parallel-item {display: flex;flex-direction: column;z-index: 1;position: relative;background-color: white;}#sk-container-id-1 div.sk-parallel-item:first-child::after {align-self: flex-end;width: 50%;}#sk-container-id-1 div.sk-parallel-item:last-child::after {align-self: flex-start;width: 50%;}#sk-container-id-1 div.sk-parallel-item:only-child::after {width: 0;}#sk-container-id-1 div.sk-dashed-wrapped {border: 1px dashed gray;margin: 0 0.4em 0.5em 0.4em;box-sizing: border-box;padding-bottom: 0.4em;background-color: white;}#sk-container-id-1 div.sk-label label {font-family: monospace;font-weight: bold;display: inline-block;line-height: 1.2em;}#sk-container-id-1 div.sk-label-container {text-align: center;}#sk-container-id-1 div.sk-container {/* jupyter's `normalize.less` sets `[hidden] { display: none; }` but bootstrap.min.css set `[hidden] { display: none !important; }` so we also need the `!important` here to be able to override the default hidden behavior on the sphinx rendered scikit-learn.org. See: https://github.com/scikit-learn/scikit-learn/issues/21755 */display: inline-block !important;position: relative;}#sk-container-id-1 div.sk-text-repr-fallback {display: none;}</style><div id=\"sk-container-id-1\" class=\"sk-top-container\"><div class=\"sk-text-repr-fallback\"><pre>LinearRegression()</pre><b>In a Jupyter environment, please rerun this cell to show the HTML representation or trust the notebook. <br />On GitHub, the HTML representation is unable to render, please try loading this page with nbviewer.org.</b></div><div class=\"sk-container\" hidden><div class=\"sk-item\"><div class=\"sk-estimator sk-toggleable\"><input class=\"sk-toggleable__control sk-hidden--visually\" id=\"sk-estimator-id-1\" type=\"checkbox\" checked><label for=\"sk-estimator-id-1\" class=\"sk-toggleable__label sk-toggleable__label-arrow\">LinearRegression</label><div class=\"sk-toggleable__content\"><pre>LinearRegression()</pre></div></div></div></div></div>"
      ],
      "text/plain": [
       "LinearRegression()"
      ]
     },
     "execution_count": 55,
     "metadata": {},
     "output_type": "execute_result"
    }
   ],
   "source": [
    "reg.fit(xtrain,ytrain)"
   ]
  },
  {
   "cell_type": "code",
   "execution_count": 56,
   "id": "9fb4a174",
   "metadata": {},
   "outputs": [
    {
     "data": {
      "text/plain": [
       "(74918, 23)"
      ]
     },
     "execution_count": 56,
     "metadata": {},
     "output_type": "execute_result"
    }
   ],
   "source": [
    "df2=df\n",
    "df2.shape"
   ]
  },
  {
   "cell_type": "code",
   "execution_count": 57,
   "id": "59ffcf98",
   "metadata": {
    "scrolled": true
   },
   "outputs": [
    {
     "data": {
      "text/plain": [
       "(74918, 23)"
      ]
     },
     "execution_count": 57,
     "metadata": {},
     "output_type": "execute_result"
    }
   ],
   "source": [
    "df2.dropna(subset=['tp_classificacao_final']).shape"
   ]
  }
 ],
 "metadata": {
  "kernelspec": {
   "display_name": "Python 3 (ipykernel)",
   "language": "python",
   "name": "python3"
  },
  "language_info": {
   "codemirror_mode": {
    "name": "ipython",
    "version": 3
   },
   "file_extension": ".py",
   "mimetype": "text/x-python",
   "name": "python",
   "nbconvert_exporter": "python",
   "pygments_lexer": "ipython3",
   "version": "3.11.5"
  }
 },
 "nbformat": 4,
 "nbformat_minor": 5
}
