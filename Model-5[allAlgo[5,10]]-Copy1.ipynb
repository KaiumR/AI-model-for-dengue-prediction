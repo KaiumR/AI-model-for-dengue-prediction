{
 "cells": [
  {
   "cell_type": "code",
   "execution_count": 1,
   "id": "1aff60ba",
   "metadata": {},
   "outputs": [],
   "source": [
    "import pandas as pd\n",
    "import numpy as np\n",
    "import matplotlib.pyplot as plt\n",
    "from sklearn import tree"
   ]
  },
  {
   "cell_type": "code",
   "execution_count": 2,
   "id": "82991a3d",
   "metadata": {},
   "outputs": [],
   "source": [
    "from sklearn.model_selection import train_test_split\n",
    "from sklearn.metrics import accuracy_score\n",
    "from sklearn.metrics import confusion_matrix\n",
    "from sklearn.metrics import classification_report"
   ]
  },
  {
   "cell_type": "code",
   "execution_count": 3,
   "id": "623ca87e",
   "metadata": {},
   "outputs": [],
   "source": [
    "df=pd.read_csv('book1.csv')"
   ]
  },
  {
   "cell_type": "code",
   "execution_count": 4,
   "id": "09cf8f2b",
   "metadata": {},
   "outputs": [],
   "source": [
    "df=df.dropna(subset=['tp_classificacao_final'])"
   ]
  },
  {
   "cell_type": "code",
   "execution_count": 5,
   "id": "c3066fb7",
   "metadata": {},
   "outputs": [],
   "source": [
    "df=df.drop(['nu_idade','tp_sexo','tp_raca_cor'],axis=1)"
   ]
  },
  {
   "cell_type": "code",
   "execution_count": 6,
   "id": "06ae9421",
   "metadata": {},
   "outputs": [],
   "source": [
    "df=df.drop(df[df['tp_classificacao_final'] == 1].index)\n",
    "df=df.drop(df[df['tp_classificacao_final'] == 2].index)\n",
    "df=df.drop(df[df['tp_classificacao_final'] == 8].index)\n",
    "df=df.drop(df[df['tp_classificacao_final'] == 11].index)\n",
    "df=df.drop(df[df['tp_classificacao_final'] == 12].index)\n",
    "df=df.drop(df[df['tp_classificacao_final'] == 13].index)"
   ]
  },
  {
   "cell_type": "code",
   "execution_count": 7,
   "id": "fe6a8517",
   "metadata": {},
   "outputs": [
    {
     "data": {
      "text/plain": [
       "tp_gestante                   9\n",
       "tp_zona_residencia         7764\n",
       "febre                     33876\n",
       "mialgia                   33876\n",
       "cefaleia                  33876\n",
       "exantema                  33876\n",
       "vomito                    33876\n",
       "nausea                    33876\n",
       "dor_costas                33876\n",
       "conjutivite               33876\n",
       "artrite                   33876\n",
       "artralgia                 33876\n",
       "petequia_n                33876\n",
       "laco                      33876\n",
       "dor_retro                 33876\n",
       "diabetes                  33876\n",
       "hematolog                 33876\n",
       "hepatopat                 33876\n",
       "renal                     33876\n",
       "hipertensao               33876\n",
       "acido_pept                33876\n",
       "auto_imune                33876\n",
       "tp_classificacao_final        0\n",
       "dtype: int64"
      ]
     },
     "execution_count": 7,
     "metadata": {},
     "output_type": "execute_result"
    }
   ],
   "source": [
    "df.isnull().sum()"
   ]
  },
  {
   "cell_type": "code",
   "execution_count": 8,
   "id": "88a05a80",
   "metadata": {},
   "outputs": [],
   "source": [
    "df['tp_gestante'].fillna(df.groupby(['tp_classificacao_final'])['tp_gestante'].transform(lambda x: x.fillna(x.mode()[0])), inplace=True)\n",
    "df['tp_zona_residencia'].fillna(df.groupby(['tp_classificacao_final'])['tp_zona_residencia'].transform(lambda x: x.fillna(x.mode()[0])), inplace=True)\n",
    "df['febre'].fillna(df.groupby(['tp_classificacao_final'])['febre'].transform(lambda x: x.fillna(x.mode()[0])), inplace=True)\n",
    "df['mialgia'].fillna(df.groupby(['tp_classificacao_final'])['mialgia'].transform(lambda x: x.fillna(x.mode()[0])), inplace=True)\n",
    "df['cefaleia'].fillna(df.groupby(['tp_classificacao_final'])['cefaleia'].transform(lambda x: x.fillna(x.mode()[0])), inplace=True)\n",
    "df['exantema'].fillna(df.groupby(['tp_classificacao_final'])['exantema'].transform(lambda x: x.fillna(x.mode()[0])), inplace=True)\n",
    "df['vomito'].fillna(df.groupby(['tp_classificacao_final'])['vomito'].transform(lambda x: x.fillna(x.mode()[0])), inplace=True)\n",
    "df['nausea'].fillna(df.groupby(['tp_classificacao_final'])['nausea'].transform(lambda x: x.fillna(x.mode()[0])), inplace=True)\n",
    "df['dor_costas'].fillna(df.groupby(['tp_classificacao_final'])['dor_costas'].transform(lambda x: x.fillna(x.mode()[0])), inplace=True)\n",
    "df['conjutivite'].fillna(df.groupby(['tp_classificacao_final'])['conjutivite'].transform(lambda x: x.fillna(x.mode()[0])), inplace=True)\n",
    "df['artrite'].fillna(df.groupby(['tp_classificacao_final'])['artrite'].transform(lambda x: x.fillna(x.mode()[0])), inplace=True)\n",
    "df['artralgia'].fillna(df.groupby(['tp_classificacao_final'])['artralgia'].transform(lambda x: x.fillna(x.mode()[0])), inplace=True)\n",
    "df['petequia_n'].fillna(df.groupby(['tp_classificacao_final'])['petequia_n'].transform(lambda x: x.fillna(x.mode()[0])), inplace=True)\n",
    "df['laco'].fillna(df.groupby(['tp_classificacao_final'])['laco'].transform(lambda x: x.fillna(x.mode()[0])), inplace=True)\n",
    "df['dor_retro'].fillna(df.groupby(['tp_classificacao_final'])['dor_retro'].transform(lambda x: x.fillna(x.mode()[0])), inplace=True)\n",
    "df['diabetes'].fillna(df.groupby(['tp_classificacao_final'])['diabetes'].transform(lambda x: x.fillna(x.mode()[0])), inplace=True)\n",
    "df['hematolog'].fillna(df.groupby(['tp_classificacao_final'])['hematolog'].transform(lambda x: x.fillna(x.mode()[0])), inplace=True)\n",
    "df['hepatopat'].fillna(df.groupby(['tp_classificacao_final'])['hepatopat'].transform(lambda x: x.fillna(x.mode()[0])), inplace=True)\n",
    "df['renal'].fillna(df.groupby(['tp_classificacao_final'])['renal'].transform(lambda x: x.fillna(x.mode()[0])), inplace=True)\n",
    "df['hipertensao'].fillna(df.groupby(['tp_classificacao_final'])['hipertensao'].transform(lambda x: x.fillna(x.mode()[0])), inplace=True)\n",
    "df['acido_pept'].fillna(df.groupby(['tp_classificacao_final'])['acido_pept'].transform(lambda x: x.fillna(x.mode()[0])), inplace=True)\n",
    "df['auto_imune'].fillna(df.groupby(['tp_classificacao_final'])['auto_imune'].transform(lambda x: x.fillna(x.mode()[0])), inplace=True)"
   ]
  },
  {
   "cell_type": "code",
   "execution_count": 9,
   "id": "34ce9946",
   "metadata": {},
   "outputs": [],
   "source": [
    "df3=df"
   ]
  },
  {
   "cell_type": "code",
   "execution_count": 10,
   "id": "4bd96262",
   "metadata": {},
   "outputs": [
    {
     "data": {
      "text/plain": [
       "tp_gestante               0\n",
       "tp_zona_residencia        0\n",
       "febre                     0\n",
       "mialgia                   0\n",
       "cefaleia                  0\n",
       "exantema                  0\n",
       "vomito                    0\n",
       "nausea                    0\n",
       "dor_costas                0\n",
       "conjutivite               0\n",
       "artrite                   0\n",
       "artralgia                 0\n",
       "petequia_n                0\n",
       "laco                      0\n",
       "dor_retro                 0\n",
       "diabetes                  0\n",
       "hematolog                 0\n",
       "hepatopat                 0\n",
       "renal                     0\n",
       "hipertensao               0\n",
       "acido_pept                0\n",
       "auto_imune                0\n",
       "tp_classificacao_final    0\n",
       "dtype: int64"
      ]
     },
     "execution_count": 10,
     "metadata": {},
     "output_type": "execute_result"
    }
   ],
   "source": [
    "df3.isnull().sum()"
   ]
  },
  {
   "cell_type": "code",
   "execution_count": 11,
   "id": "7d0b1d0d",
   "metadata": {},
   "outputs": [],
   "source": [
    "x=df3.iloc[:,:-1]\n",
    "y=df3.iloc[:,22]"
   ]
  },
  {
   "cell_type": "code",
   "execution_count": 12,
   "id": "a880d26e",
   "metadata": {},
   "outputs": [
    {
     "data": {
      "text/plain": [
       "tp_classificacao_final\n",
       "10.0    40817\n",
       "5.0     21817\n",
       "Name: count, dtype: int64"
      ]
     },
     "execution_count": 12,
     "metadata": {},
     "output_type": "execute_result"
    }
   ],
   "source": [
    "df3['tp_classificacao_final'].value_counts()"
   ]
  },
  {
   "cell_type": "code",
   "execution_count": 13,
   "id": "668a4dcc",
   "metadata": {},
   "outputs": [],
   "source": [
    "xtrain, xtest, ytrain, ytest = train_test_split(x,y,test_size=.20, random_state=1)"
   ]
  },
  {
   "cell_type": "markdown",
   "id": "dbb0e10a",
   "metadata": {},
   "source": [
    "# Decision Tree"
   ]
  },
  {
   "cell_type": "code",
   "execution_count": 14,
   "id": "4dabf9c6",
   "metadata": {},
   "outputs": [],
   "source": [
    "classifier=tree.DecisionTreeClassifier()"
   ]
  },
  {
   "cell_type": "code",
   "execution_count": 15,
   "id": "f9c0d7bf",
   "metadata": {},
   "outputs": [
    {
     "data": {
      "text/html": [
       "<style>#sk-container-id-1 {color: black;}#sk-container-id-1 pre{padding: 0;}#sk-container-id-1 div.sk-toggleable {background-color: white;}#sk-container-id-1 label.sk-toggleable__label {cursor: pointer;display: block;width: 100%;margin-bottom: 0;padding: 0.3em;box-sizing: border-box;text-align: center;}#sk-container-id-1 label.sk-toggleable__label-arrow:before {content: \"▸\";float: left;margin-right: 0.25em;color: #696969;}#sk-container-id-1 label.sk-toggleable__label-arrow:hover:before {color: black;}#sk-container-id-1 div.sk-estimator:hover label.sk-toggleable__label-arrow:before {color: black;}#sk-container-id-1 div.sk-toggleable__content {max-height: 0;max-width: 0;overflow: hidden;text-align: left;background-color: #f0f8ff;}#sk-container-id-1 div.sk-toggleable__content pre {margin: 0.2em;color: black;border-radius: 0.25em;background-color: #f0f8ff;}#sk-container-id-1 input.sk-toggleable__control:checked~div.sk-toggleable__content {max-height: 200px;max-width: 100%;overflow: auto;}#sk-container-id-1 input.sk-toggleable__control:checked~label.sk-toggleable__label-arrow:before {content: \"▾\";}#sk-container-id-1 div.sk-estimator input.sk-toggleable__control:checked~label.sk-toggleable__label {background-color: #d4ebff;}#sk-container-id-1 div.sk-label input.sk-toggleable__control:checked~label.sk-toggleable__label {background-color: #d4ebff;}#sk-container-id-1 input.sk-hidden--visually {border: 0;clip: rect(1px 1px 1px 1px);clip: rect(1px, 1px, 1px, 1px);height: 1px;margin: -1px;overflow: hidden;padding: 0;position: absolute;width: 1px;}#sk-container-id-1 div.sk-estimator {font-family: monospace;background-color: #f0f8ff;border: 1px dotted black;border-radius: 0.25em;box-sizing: border-box;margin-bottom: 0.5em;}#sk-container-id-1 div.sk-estimator:hover {background-color: #d4ebff;}#sk-container-id-1 div.sk-parallel-item::after {content: \"\";width: 100%;border-bottom: 1px solid gray;flex-grow: 1;}#sk-container-id-1 div.sk-label:hover label.sk-toggleable__label {background-color: #d4ebff;}#sk-container-id-1 div.sk-serial::before {content: \"\";position: absolute;border-left: 1px solid gray;box-sizing: border-box;top: 0;bottom: 0;left: 50%;z-index: 0;}#sk-container-id-1 div.sk-serial {display: flex;flex-direction: column;align-items: center;background-color: white;padding-right: 0.2em;padding-left: 0.2em;position: relative;}#sk-container-id-1 div.sk-item {position: relative;z-index: 1;}#sk-container-id-1 div.sk-parallel {display: flex;align-items: stretch;justify-content: center;background-color: white;position: relative;}#sk-container-id-1 div.sk-item::before, #sk-container-id-1 div.sk-parallel-item::before {content: \"\";position: absolute;border-left: 1px solid gray;box-sizing: border-box;top: 0;bottom: 0;left: 50%;z-index: -1;}#sk-container-id-1 div.sk-parallel-item {display: flex;flex-direction: column;z-index: 1;position: relative;background-color: white;}#sk-container-id-1 div.sk-parallel-item:first-child::after {align-self: flex-end;width: 50%;}#sk-container-id-1 div.sk-parallel-item:last-child::after {align-self: flex-start;width: 50%;}#sk-container-id-1 div.sk-parallel-item:only-child::after {width: 0;}#sk-container-id-1 div.sk-dashed-wrapped {border: 1px dashed gray;margin: 0 0.4em 0.5em 0.4em;box-sizing: border-box;padding-bottom: 0.4em;background-color: white;}#sk-container-id-1 div.sk-label label {font-family: monospace;font-weight: bold;display: inline-block;line-height: 1.2em;}#sk-container-id-1 div.sk-label-container {text-align: center;}#sk-container-id-1 div.sk-container {/* jupyter's `normalize.less` sets `[hidden] { display: none; }` but bootstrap.min.css set `[hidden] { display: none !important; }` so we also need the `!important` here to be able to override the default hidden behavior on the sphinx rendered scikit-learn.org. See: https://github.com/scikit-learn/scikit-learn/issues/21755 */display: inline-block !important;position: relative;}#sk-container-id-1 div.sk-text-repr-fallback {display: none;}</style><div id=\"sk-container-id-1\" class=\"sk-top-container\"><div class=\"sk-text-repr-fallback\"><pre>DecisionTreeClassifier()</pre><b>In a Jupyter environment, please rerun this cell to show the HTML representation or trust the notebook. <br />On GitHub, the HTML representation is unable to render, please try loading this page with nbviewer.org.</b></div><div class=\"sk-container\" hidden><div class=\"sk-item\"><div class=\"sk-estimator sk-toggleable\"><input class=\"sk-toggleable__control sk-hidden--visually\" id=\"sk-estimator-id-1\" type=\"checkbox\" checked><label for=\"sk-estimator-id-1\" class=\"sk-toggleable__label sk-toggleable__label-arrow\">DecisionTreeClassifier</label><div class=\"sk-toggleable__content\"><pre>DecisionTreeClassifier()</pre></div></div></div></div></div>"
      ],
      "text/plain": [
       "DecisionTreeClassifier()"
      ]
     },
     "execution_count": 15,
     "metadata": {},
     "output_type": "execute_result"
    }
   ],
   "source": [
    "classifier.fit(xtrain,ytrain)"
   ]
  },
  {
   "cell_type": "code",
   "execution_count": 16,
   "id": "c1b31335",
   "metadata": {},
   "outputs": [
    {
     "data": {
      "text/plain": [
       "0.8503233016683963"
      ]
     },
     "execution_count": 16,
     "metadata": {},
     "output_type": "execute_result"
    }
   ],
   "source": [
    "classifier.score(xtest,ytest)"
   ]
  },
  {
   "cell_type": "code",
   "execution_count": 17,
   "id": "f0fe846f",
   "metadata": {},
   "outputs": [],
   "source": [
    "from sklearn.linear_model import LogisticRegression"
   ]
  },
  {
   "cell_type": "code",
   "execution_count": 18,
   "id": "9c94a6b5",
   "metadata": {},
   "outputs": [],
   "source": [
    "Lreg=LogisticRegression()"
   ]
  },
  {
   "cell_type": "code",
   "execution_count": 19,
   "id": "cfc81ab8",
   "metadata": {},
   "outputs": [
    {
     "name": "stderr",
     "output_type": "stream",
     "text": [
      "C:\\Users\\OBYDUL HAQUE EMON\\anaconda3\\Lib\\site-packages\\sklearn\\linear_model\\_logistic.py:460: ConvergenceWarning: lbfgs failed to converge (status=1):\n",
      "STOP: TOTAL NO. of ITERATIONS REACHED LIMIT.\n",
      "\n",
      "Increase the number of iterations (max_iter) or scale the data as shown in:\n",
      "    https://scikit-learn.org/stable/modules/preprocessing.html\n",
      "Please also refer to the documentation for alternative solver options:\n",
      "    https://scikit-learn.org/stable/modules/linear_model.html#logistic-regression\n",
      "  n_iter_i = _check_optimize_result(\n"
     ]
    },
    {
     "data": {
      "text/html": [
       "<style>#sk-container-id-2 {color: black;}#sk-container-id-2 pre{padding: 0;}#sk-container-id-2 div.sk-toggleable {background-color: white;}#sk-container-id-2 label.sk-toggleable__label {cursor: pointer;display: block;width: 100%;margin-bottom: 0;padding: 0.3em;box-sizing: border-box;text-align: center;}#sk-container-id-2 label.sk-toggleable__label-arrow:before {content: \"▸\";float: left;margin-right: 0.25em;color: #696969;}#sk-container-id-2 label.sk-toggleable__label-arrow:hover:before {color: black;}#sk-container-id-2 div.sk-estimator:hover label.sk-toggleable__label-arrow:before {color: black;}#sk-container-id-2 div.sk-toggleable__content {max-height: 0;max-width: 0;overflow: hidden;text-align: left;background-color: #f0f8ff;}#sk-container-id-2 div.sk-toggleable__content pre {margin: 0.2em;color: black;border-radius: 0.25em;background-color: #f0f8ff;}#sk-container-id-2 input.sk-toggleable__control:checked~div.sk-toggleable__content {max-height: 200px;max-width: 100%;overflow: auto;}#sk-container-id-2 input.sk-toggleable__control:checked~label.sk-toggleable__label-arrow:before {content: \"▾\";}#sk-container-id-2 div.sk-estimator input.sk-toggleable__control:checked~label.sk-toggleable__label {background-color: #d4ebff;}#sk-container-id-2 div.sk-label input.sk-toggleable__control:checked~label.sk-toggleable__label {background-color: #d4ebff;}#sk-container-id-2 input.sk-hidden--visually {border: 0;clip: rect(1px 1px 1px 1px);clip: rect(1px, 1px, 1px, 1px);height: 1px;margin: -1px;overflow: hidden;padding: 0;position: absolute;width: 1px;}#sk-container-id-2 div.sk-estimator {font-family: monospace;background-color: #f0f8ff;border: 1px dotted black;border-radius: 0.25em;box-sizing: border-box;margin-bottom: 0.5em;}#sk-container-id-2 div.sk-estimator:hover {background-color: #d4ebff;}#sk-container-id-2 div.sk-parallel-item::after {content: \"\";width: 100%;border-bottom: 1px solid gray;flex-grow: 1;}#sk-container-id-2 div.sk-label:hover label.sk-toggleable__label {background-color: #d4ebff;}#sk-container-id-2 div.sk-serial::before {content: \"\";position: absolute;border-left: 1px solid gray;box-sizing: border-box;top: 0;bottom: 0;left: 50%;z-index: 0;}#sk-container-id-2 div.sk-serial {display: flex;flex-direction: column;align-items: center;background-color: white;padding-right: 0.2em;padding-left: 0.2em;position: relative;}#sk-container-id-2 div.sk-item {position: relative;z-index: 1;}#sk-container-id-2 div.sk-parallel {display: flex;align-items: stretch;justify-content: center;background-color: white;position: relative;}#sk-container-id-2 div.sk-item::before, #sk-container-id-2 div.sk-parallel-item::before {content: \"\";position: absolute;border-left: 1px solid gray;box-sizing: border-box;top: 0;bottom: 0;left: 50%;z-index: -1;}#sk-container-id-2 div.sk-parallel-item {display: flex;flex-direction: column;z-index: 1;position: relative;background-color: white;}#sk-container-id-2 div.sk-parallel-item:first-child::after {align-self: flex-end;width: 50%;}#sk-container-id-2 div.sk-parallel-item:last-child::after {align-self: flex-start;width: 50%;}#sk-container-id-2 div.sk-parallel-item:only-child::after {width: 0;}#sk-container-id-2 div.sk-dashed-wrapped {border: 1px dashed gray;margin: 0 0.4em 0.5em 0.4em;box-sizing: border-box;padding-bottom: 0.4em;background-color: white;}#sk-container-id-2 div.sk-label label {font-family: monospace;font-weight: bold;display: inline-block;line-height: 1.2em;}#sk-container-id-2 div.sk-label-container {text-align: center;}#sk-container-id-2 div.sk-container {/* jupyter's `normalize.less` sets `[hidden] { display: none; }` but bootstrap.min.css set `[hidden] { display: none !important; }` so we also need the `!important` here to be able to override the default hidden behavior on the sphinx rendered scikit-learn.org. See: https://github.com/scikit-learn/scikit-learn/issues/21755 */display: inline-block !important;position: relative;}#sk-container-id-2 div.sk-text-repr-fallback {display: none;}</style><div id=\"sk-container-id-2\" class=\"sk-top-container\"><div class=\"sk-text-repr-fallback\"><pre>LogisticRegression()</pre><b>In a Jupyter environment, please rerun this cell to show the HTML representation or trust the notebook. <br />On GitHub, the HTML representation is unable to render, please try loading this page with nbviewer.org.</b></div><div class=\"sk-container\" hidden><div class=\"sk-item\"><div class=\"sk-estimator sk-toggleable\"><input class=\"sk-toggleable__control sk-hidden--visually\" id=\"sk-estimator-id-2\" type=\"checkbox\" checked><label for=\"sk-estimator-id-2\" class=\"sk-toggleable__label sk-toggleable__label-arrow\">LogisticRegression</label><div class=\"sk-toggleable__content\"><pre>LogisticRegression()</pre></div></div></div></div></div>"
      ],
      "text/plain": [
       "LogisticRegression()"
      ]
     },
     "execution_count": 19,
     "metadata": {},
     "output_type": "execute_result"
    }
   ],
   "source": [
    "Lreg.fit(xtrain,ytrain)"
   ]
  }
 ],
 "metadata": {
  "kernelspec": {
   "display_name": "Python 3 (ipykernel)",
   "language": "python",
   "name": "python3"
  },
  "language_info": {
   "codemirror_mode": {
    "name": "ipython",
    "version": 3
   },
   "file_extension": ".py",
   "mimetype": "text/x-python",
   "name": "python",
   "nbconvert_exporter": "python",
   "pygments_lexer": "ipython3",
   "version": "3.11.5"
  }
 },
 "nbformat": 4,
 "nbformat_minor": 5
}
